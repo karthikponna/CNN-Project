{
 "cells": [
  {
   "cell_type": "code",
   "execution_count": 1,
   "id": "8388a337",
   "metadata": {
    "scrolled": true
   },
   "outputs": [
    {
     "name": "stdout",
     "output_type": "stream",
     "text": [
      "Requirement already satisfied: tensorflow in k:\\anaconda\\lib\\site-packages (2.15.0)\n",
      "Requirement already satisfied: tensorflow-intel==2.15.0 in k:\\anaconda\\lib\\site-packages (from tensorflow) (2.15.0)\n",
      "Requirement already satisfied: google-pasta>=0.1.1 in k:\\anaconda\\lib\\site-packages (from tensorflow-intel==2.15.0->tensorflow) (0.2.0)\n",
      "Requirement already satisfied: libclang>=13.0.0 in k:\\anaconda\\lib\\site-packages (from tensorflow-intel==2.15.0->tensorflow) (16.0.6)\n",
      "Requirement already satisfied: absl-py>=1.0.0 in k:\\anaconda\\lib\\site-packages (from tensorflow-intel==2.15.0->tensorflow) (2.0.0)\n",
      "Requirement already satisfied: tensorflow-io-gcs-filesystem>=0.23.1 in k:\\anaconda\\lib\\site-packages (from tensorflow-intel==2.15.0->tensorflow) (0.31.0)\n",
      "Requirement already satisfied: h5py>=2.9.0 in k:\\anaconda\\lib\\site-packages (from tensorflow-intel==2.15.0->tensorflow) (3.7.0)\n",
      "Requirement already satisfied: gast!=0.5.0,!=0.5.1,!=0.5.2,>=0.2.1 in k:\\anaconda\\lib\\site-packages (from tensorflow-intel==2.15.0->tensorflow) (0.5.4)\n",
      "Requirement already satisfied: ml-dtypes~=0.2.0 in k:\\anaconda\\lib\\site-packages (from tensorflow-intel==2.15.0->tensorflow) (0.2.0)\n",
      "Requirement already satisfied: flatbuffers>=23.5.26 in k:\\anaconda\\lib\\site-packages (from tensorflow-intel==2.15.0->tensorflow) (23.5.26)\n",
      "Requirement already satisfied: numpy<2.0.0,>=1.23.5 in k:\\anaconda\\lib\\site-packages (from tensorflow-intel==2.15.0->tensorflow) (1.26.2)\n",
      "Requirement already satisfied: opt-einsum>=2.3.2 in k:\\anaconda\\lib\\site-packages (from tensorflow-intel==2.15.0->tensorflow) (3.3.0)\n",
      "Requirement already satisfied: astunparse>=1.6.0 in k:\\anaconda\\lib\\site-packages (from tensorflow-intel==2.15.0->tensorflow) (1.6.3)\n",
      "Requirement already satisfied: termcolor>=1.1.0 in k:\\anaconda\\lib\\site-packages (from tensorflow-intel==2.15.0->tensorflow) (2.4.0)\n",
      "Requirement already satisfied: setuptools in k:\\anaconda\\lib\\site-packages (from tensorflow-intel==2.15.0->tensorflow) (63.4.1)\n",
      "Requirement already satisfied: tensorflow-estimator<2.16,>=2.15.0 in k:\\anaconda\\lib\\site-packages (from tensorflow-intel==2.15.0->tensorflow) (2.15.0)\n",
      "Requirement already satisfied: keras<2.16,>=2.15.0 in k:\\anaconda\\lib\\site-packages (from tensorflow-intel==2.15.0->tensorflow) (2.15.0)\n",
      "Requirement already satisfied: wrapt<1.15,>=1.11.0 in k:\\anaconda\\lib\\site-packages (from tensorflow-intel==2.15.0->tensorflow) (1.14.1)\n",
      "Requirement already satisfied: protobuf!=4.21.0,!=4.21.1,!=4.21.2,!=4.21.3,!=4.21.4,!=4.21.5,<5.0.0dev,>=3.20.3 in k:\\anaconda\\lib\\site-packages (from tensorflow-intel==2.15.0->tensorflow) (4.23.4)\n",
      "Requirement already satisfied: tensorboard<2.16,>=2.15 in k:\\anaconda\\lib\\site-packages (from tensorflow-intel==2.15.0->tensorflow) (2.15.1)\n",
      "Requirement already satisfied: six>=1.12.0 in k:\\anaconda\\lib\\site-packages (from tensorflow-intel==2.15.0->tensorflow) (1.16.0)\n",
      "Requirement already satisfied: grpcio<2.0,>=1.24.3 in k:\\anaconda\\lib\\site-packages (from tensorflow-intel==2.15.0->tensorflow) (1.60.0)\n",
      "Requirement already satisfied: typing-extensions>=3.6.6 in k:\\anaconda\\lib\\site-packages (from tensorflow-intel==2.15.0->tensorflow) (4.3.0)\n",
      "Requirement already satisfied: packaging in k:\\anaconda\\lib\\site-packages (from tensorflow-intel==2.15.0->tensorflow) (21.3)\n",
      "Requirement already satisfied: wheel<1.0,>=0.23.0 in k:\\anaconda\\lib\\site-packages (from astunparse>=1.6.0->tensorflow-intel==2.15.0->tensorflow) (0.37.1)\n",
      "Requirement already satisfied: requests<3,>=2.21.0 in k:\\anaconda\\lib\\site-packages (from tensorboard<2.16,>=2.15->tensorflow-intel==2.15.0->tensorflow) (2.28.1)\n",
      "Requirement already satisfied: tensorboard-data-server<0.8.0,>=0.7.0 in k:\\anaconda\\lib\\site-packages (from tensorboard<2.16,>=2.15->tensorflow-intel==2.15.0->tensorflow) (0.7.2)\n",
      "Requirement already satisfied: werkzeug>=1.0.1 in k:\\anaconda\\lib\\site-packages (from tensorboard<2.16,>=2.15->tensorflow-intel==2.15.0->tensorflow) (2.0.3)\n",
      "Requirement already satisfied: markdown>=2.6.8 in k:\\anaconda\\lib\\site-packages (from tensorboard<2.16,>=2.15->tensorflow-intel==2.15.0->tensorflow) (3.3.4)\n",
      "Requirement already satisfied: google-auth<3,>=1.6.3 in k:\\anaconda\\lib\\site-packages (from tensorboard<2.16,>=2.15->tensorflow-intel==2.15.0->tensorflow) (2.25.2)\n",
      "Requirement already satisfied: google-auth-oauthlib<2,>=0.5 in k:\\anaconda\\lib\\site-packages (from tensorboard<2.16,>=2.15->tensorflow-intel==2.15.0->tensorflow) (1.2.0)\n",
      "Requirement already satisfied: pyparsing!=3.0.5,>=2.0.2 in k:\\anaconda\\lib\\site-packages (from packaging->tensorflow-intel==2.15.0->tensorflow) (3.0.9)\n",
      "Requirement already satisfied: pyasn1-modules>=0.2.1 in k:\\anaconda\\lib\\site-packages (from google-auth<3,>=1.6.3->tensorboard<2.16,>=2.15->tensorflow-intel==2.15.0->tensorflow) (0.2.8)\n",
      "Requirement already satisfied: cachetools<6.0,>=2.0.0 in k:\\anaconda\\lib\\site-packages (from google-auth<3,>=1.6.3->tensorboard<2.16,>=2.15->tensorflow-intel==2.15.0->tensorflow) (5.3.2)\n",
      "Requirement already satisfied: rsa<5,>=3.1.4 in k:\\anaconda\\lib\\site-packages (from google-auth<3,>=1.6.3->tensorboard<2.16,>=2.15->tensorflow-intel==2.15.0->tensorflow) (4.9)\n",
      "Requirement already satisfied: requests-oauthlib>=0.7.0 in k:\\anaconda\\lib\\site-packages (from google-auth-oauthlib<2,>=0.5->tensorboard<2.16,>=2.15->tensorflow-intel==2.15.0->tensorflow) (1.3.1)\n",
      "Requirement already satisfied: urllib3<1.27,>=1.21.1 in k:\\anaconda\\lib\\site-packages (from requests<3,>=2.21.0->tensorboard<2.16,>=2.15->tensorflow-intel==2.15.0->tensorflow) (1.26.11)\n",
      "Requirement already satisfied: idna<4,>=2.5 in k:\\anaconda\\lib\\site-packages (from requests<3,>=2.21.0->tensorboard<2.16,>=2.15->tensorflow-intel==2.15.0->tensorflow) (3.3)\n",
      "Requirement already satisfied: charset-normalizer<3,>=2 in k:\\anaconda\\lib\\site-packages (from requests<3,>=2.21.0->tensorboard<2.16,>=2.15->tensorflow-intel==2.15.0->tensorflow) (2.0.4)\n",
      "Requirement already satisfied: certifi>=2017.4.17 in k:\\anaconda\\lib\\site-packages (from requests<3,>=2.21.0->tensorboard<2.16,>=2.15->tensorflow-intel==2.15.0->tensorflow) (2022.9.14)\n",
      "Requirement already satisfied: pyasn1<0.5.0,>=0.4.6 in k:\\anaconda\\lib\\site-packages (from pyasn1-modules>=0.2.1->google-auth<3,>=1.6.3->tensorboard<2.16,>=2.15->tensorflow-intel==2.15.0->tensorflow) (0.4.8)\n",
      "Requirement already satisfied: oauthlib>=3.0.0 in k:\\anaconda\\lib\\site-packages (from requests-oauthlib>=0.7.0->google-auth-oauthlib<2,>=0.5->tensorboard<2.16,>=2.15->tensorflow-intel==2.15.0->tensorflow) (3.2.2)\n"
     ]
    }
   ],
   "source": [
    "!pip install tensorflow"
   ]
  },
  {
   "cell_type": "code",
   "execution_count": 2,
   "id": "c35a8c30",
   "metadata": {},
   "outputs": [
    {
     "name": "stderr",
     "output_type": "stream",
     "text": [
      "K:\\Anaconda\\lib\\site-packages\\scipy\\__init__.py:155: UserWarning: A NumPy version >=1.18.5 and <1.25.0 is required for this version of SciPy (detected version 1.26.2\n",
      "  warnings.warn(f\"A NumPy version >={np_minversion} and <{np_maxversion}\"\n"
     ]
    },
    {
     "name": "stdout",
     "output_type": "stream",
     "text": [
      "WARNING:tensorflow:From K:\\Anaconda\\lib\\site-packages\\keras\\src\\losses.py:2976: The name tf.losses.sparse_softmax_cross_entropy is deprecated. Please use tf.compat.v1.losses.sparse_softmax_cross_entropy instead.\n",
      "\n"
     ]
    }
   ],
   "source": [
    "import tensorflow as tf\n",
    "from keras.preprocessing.image import ImageDataGenerator"
   ]
  },
  {
   "cell_type": "code",
   "execution_count": 3,
   "id": "4ca865e3",
   "metadata": {},
   "outputs": [
    {
     "name": "stdout",
     "output_type": "stream",
     "text": [
      "Found 8000 images belonging to 2 classes.\n"
     ]
    }
   ],
   "source": [
    "train_datagen = ImageDataGenerator(rescale= 1./255, shear_range= 0.2, zoom_range= 0.2, horizontal_flip= True )\n",
    "training_set = train_datagen.flow_from_directory('dataset/training_set',\n",
    "                                            target_size=(64,64),\n",
    "                                            batch_size= 32,\n",
    "                                            class_mode= 'binary')"
   ]
  },
  {
   "cell_type": "code",
   "execution_count": 4,
   "id": "9d7fdb34",
   "metadata": {},
   "outputs": [
    {
     "name": "stdout",
     "output_type": "stream",
     "text": [
      "Found 2000 images belonging to 2 classes.\n"
     ]
    }
   ],
   "source": [
    "test_datagen = ImageDataGenerator(rescale= 1./255)\n",
    "test_set= test_datagen.flow_from_directory('dataset/test_set',\n",
    "                                          target_size=(64,64),\n",
    "                                          batch_size= 32,\n",
    "                                          class_mode= 'binary')"
   ]
  },
  {
   "cell_type": "code",
   "execution_count": 5,
   "id": "0c0fdaba",
   "metadata": {},
   "outputs": [
    {
     "name": "stdout",
     "output_type": "stream",
     "text": [
      "WARNING:tensorflow:From K:\\Anaconda\\lib\\site-packages\\keras\\src\\backend.py:873: The name tf.get_default_graph is deprecated. Please use tf.compat.v1.get_default_graph instead.\n",
      "\n"
     ]
    }
   ],
   "source": [
    "cnn = tf.keras.models.Sequential()"
   ]
  },
  {
   "cell_type": "code",
   "execution_count": 6,
   "id": "c5c8ae2d",
   "metadata": {},
   "outputs": [],
   "source": [
    "cnn.add(tf.keras.layers.Conv2D(filters= 32, kernel_size= 3, activation = 'relu', input_shape=[64,64,3]))"
   ]
  },
  {
   "cell_type": "code",
   "execution_count": 7,
   "id": "f0068684",
   "metadata": {},
   "outputs": [
    {
     "name": "stdout",
     "output_type": "stream",
     "text": [
      "WARNING:tensorflow:From K:\\Anaconda\\lib\\site-packages\\keras\\src\\layers\\pooling\\max_pooling2d.py:161: The name tf.nn.max_pool is deprecated. Please use tf.nn.max_pool2d instead.\n",
      "\n"
     ]
    }
   ],
   "source": [
    "cnn.add(tf.keras.layers.MaxPool2D(pool_size= 2, strides=2))"
   ]
  },
  {
   "cell_type": "code",
   "execution_count": 8,
   "id": "3a7dbe7d",
   "metadata": {},
   "outputs": [],
   "source": [
    "cnn.add(tf.keras.layers.Conv2D(filters= 32, kernel_size= 3, activation = 'relu', input_shape=[64,64,3]))\n",
    "cnn.add(tf.keras.layers.MaxPool2D(pool_size= 2, strides=2))"
   ]
  },
  {
   "cell_type": "code",
   "execution_count": 9,
   "id": "2b2dc698",
   "metadata": {},
   "outputs": [],
   "source": [
    "cnn.add(tf.keras.layers.Flatten())"
   ]
  },
  {
   "cell_type": "code",
   "execution_count": 10,
   "id": "2c080eb5",
   "metadata": {},
   "outputs": [],
   "source": [
    "cnn.add(tf.keras.layers.Dense(units=128, activation='relu'))"
   ]
  },
  {
   "cell_type": "code",
   "execution_count": 11,
   "id": "24a6b77e",
   "metadata": {},
   "outputs": [],
   "source": [
    "cnn.add(tf.keras.layers.Dense(units=1, activation='sigmoid'))"
   ]
  },
  {
   "cell_type": "code",
   "execution_count": 12,
   "id": "b93ba19e",
   "metadata": {},
   "outputs": [
    {
     "name": "stdout",
     "output_type": "stream",
     "text": [
      "WARNING:tensorflow:From K:\\Anaconda\\lib\\site-packages\\keras\\src\\optimizers\\__init__.py:309: The name tf.train.Optimizer is deprecated. Please use tf.compat.v1.train.Optimizer instead.\n",
      "\n"
     ]
    }
   ],
   "source": [
    "cnn.compile(optimizer='adam', loss='binary_crossentropy', metrics=['accuracy'])"
   ]
  },
  {
   "cell_type": "code",
   "execution_count": 13,
   "id": "b7ffc73d",
   "metadata": {},
   "outputs": [
    {
     "name": "stdout",
     "output_type": "stream",
     "text": [
      "Epoch 1/25\n",
      "WARNING:tensorflow:From K:\\Anaconda\\lib\\site-packages\\keras\\src\\utils\\tf_utils.py:492: The name tf.ragged.RaggedTensorValue is deprecated. Please use tf.compat.v1.ragged.RaggedTensorValue instead.\n",
      "\n",
      "WARNING:tensorflow:From K:\\Anaconda\\lib\\site-packages\\keras\\src\\engine\\base_layer_utils.py:384: The name tf.executing_eagerly_outside_functions is deprecated. Please use tf.compat.v1.executing_eagerly_outside_functions instead.\n",
      "\n",
      "250/250 [==============================] - 257s 1s/step - loss: 0.6801 - accuracy: 0.5785 - val_loss: 0.6395 - val_accuracy: 0.6220\n",
      "Epoch 2/25\n",
      "250/250 [==============================] - 100s 402ms/step - loss: 0.6118 - accuracy: 0.6684 - val_loss: 0.5900 - val_accuracy: 0.6985\n",
      "Epoch 3/25\n",
      "250/250 [==============================] - 82s 328ms/step - loss: 0.5789 - accuracy: 0.6914 - val_loss: 0.5529 - val_accuracy: 0.7230\n",
      "Epoch 4/25\n",
      "250/250 [==============================] - 88s 353ms/step - loss: 0.5480 - accuracy: 0.7218 - val_loss: 0.5079 - val_accuracy: 0.7495\n",
      "Epoch 5/25\n",
      "250/250 [==============================] - 81s 325ms/step - loss: 0.5204 - accuracy: 0.7361 - val_loss: 0.4989 - val_accuracy: 0.7655\n",
      "Epoch 6/25\n",
      "250/250 [==============================] - 77s 306ms/step - loss: 0.4913 - accuracy: 0.7586 - val_loss: 0.4987 - val_accuracy: 0.7700\n",
      "Epoch 7/25\n",
      "250/250 [==============================] - 69s 278ms/step - loss: 0.4712 - accuracy: 0.7753 - val_loss: 0.4895 - val_accuracy: 0.7620\n",
      "Epoch 8/25\n",
      "250/250 [==============================] - 82s 327ms/step - loss: 0.4566 - accuracy: 0.7837 - val_loss: 0.4823 - val_accuracy: 0.7690\n",
      "Epoch 9/25\n",
      "250/250 [==============================] - 79s 317ms/step - loss: 0.4509 - accuracy: 0.7862 - val_loss: 0.4969 - val_accuracy: 0.7625\n",
      "Epoch 10/25\n",
      "250/250 [==============================] - 81s 323ms/step - loss: 0.4361 - accuracy: 0.7940 - val_loss: 0.4627 - val_accuracy: 0.7825\n",
      "Epoch 11/25\n",
      "250/250 [==============================] - 77s 306ms/step - loss: 0.4252 - accuracy: 0.8012 - val_loss: 0.4709 - val_accuracy: 0.7880\n",
      "Epoch 12/25\n",
      "250/250 [==============================] - 69s 278ms/step - loss: 0.4129 - accuracy: 0.8080 - val_loss: 0.4493 - val_accuracy: 0.7940\n",
      "Epoch 13/25\n",
      "250/250 [==============================] - 69s 276ms/step - loss: 0.4031 - accuracy: 0.8177 - val_loss: 0.4645 - val_accuracy: 0.8060\n",
      "Epoch 14/25\n",
      "250/250 [==============================] - 72s 289ms/step - loss: 0.3921 - accuracy: 0.8199 - val_loss: 0.4981 - val_accuracy: 0.7765\n",
      "Epoch 15/25\n",
      "250/250 [==============================] - 75s 300ms/step - loss: 0.3830 - accuracy: 0.8205 - val_loss: 0.4747 - val_accuracy: 0.8000\n",
      "Epoch 16/25\n",
      "250/250 [==============================] - 85s 338ms/step - loss: 0.3715 - accuracy: 0.8313 - val_loss: 0.4691 - val_accuracy: 0.7850\n",
      "Epoch 17/25\n",
      "250/250 [==============================] - 78s 311ms/step - loss: 0.3580 - accuracy: 0.8415 - val_loss: 0.5039 - val_accuracy: 0.7760\n",
      "Epoch 18/25\n",
      "250/250 [==============================] - 72s 289ms/step - loss: 0.3442 - accuracy: 0.8499 - val_loss: 0.4658 - val_accuracy: 0.8035\n",
      "Epoch 19/25\n",
      "250/250 [==============================] - 72s 289ms/step - loss: 0.3390 - accuracy: 0.8506 - val_loss: 0.4613 - val_accuracy: 0.8095\n",
      "Epoch 20/25\n",
      "250/250 [==============================] - 70s 279ms/step - loss: 0.3295 - accuracy: 0.8599 - val_loss: 0.4846 - val_accuracy: 0.7975\n",
      "Epoch 21/25\n",
      "250/250 [==============================] - 77s 309ms/step - loss: 0.3281 - accuracy: 0.8553 - val_loss: 0.4834 - val_accuracy: 0.8045\n",
      "Epoch 22/25\n",
      "250/250 [==============================] - 76s 305ms/step - loss: 0.3089 - accuracy: 0.8635 - val_loss: 0.5004 - val_accuracy: 0.7915\n",
      "Epoch 23/25\n",
      "250/250 [==============================] - 71s 285ms/step - loss: 0.2981 - accuracy: 0.8742 - val_loss: 0.5151 - val_accuracy: 0.8000\n",
      "Epoch 24/25\n",
      "250/250 [==============================] - 75s 301ms/step - loss: 0.2804 - accuracy: 0.8786 - val_loss: 0.4934 - val_accuracy: 0.7990\n",
      "Epoch 25/25\n",
      "250/250 [==============================] - 71s 284ms/step - loss: 0.2817 - accuracy: 0.8791 - val_loss: 0.4969 - val_accuracy: 0.8080\n"
     ]
    },
    {
     "data": {
      "text/plain": [
       "<keras.src.callbacks.History at 0x1fb7ffc3580>"
      ]
     },
     "execution_count": 13,
     "metadata": {},
     "output_type": "execute_result"
    }
   ],
   "source": [
    "cnn.fit(x= training_set, validation_data= test_set, epochs= 25)"
   ]
  },
  {
   "cell_type": "code",
   "execution_count": 41,
   "id": "7edbbe68",
   "metadata": {},
   "outputs": [
    {
     "name": "stdout",
     "output_type": "stream",
     "text": [
      "1/1 [==============================] - 0s 85ms/step\n"
     ]
    }
   ],
   "source": [
    "import numpy as np\n",
    "from keras.preprocessing import image\n",
    "test_image = image.load_img('dataset/single_prediction/cat_or_dog_2.jpg', target_size = (64, 64))\n",
    "test_image = image.img_to_array(test_image)\n",
    "test_image = np.expand_dims(test_image, axis = 0)\n",
    "result = cnn.predict(test_image)\n",
    "training_set.class_indices\n",
    "if result[0][0] == 1:\n",
    "  prediction = 'dog'\n",
    "else:\n",
    "  prediction = 'cat'"
   ]
  },
  {
   "cell_type": "code",
   "execution_count": 42,
   "id": "333b69ba",
   "metadata": {},
   "outputs": [
    {
     "name": "stdout",
     "output_type": "stream",
     "text": [
      "cat\n"
     ]
    }
   ],
   "source": [
    "print(prediction)"
   ]
  },
  {
   "cell_type": "code",
   "execution_count": null,
   "id": "fe35ca7e",
   "metadata": {},
   "outputs": [],
   "source": []
  }
 ],
 "metadata": {
  "kernelspec": {
   "display_name": "Python 3 (ipykernel)",
   "language": "python",
   "name": "python3"
  },
  "language_info": {
   "codemirror_mode": {
    "name": "ipython",
    "version": 3
   },
   "file_extension": ".py",
   "mimetype": "text/x-python",
   "name": "python",
   "nbconvert_exporter": "python",
   "pygments_lexer": "ipython3",
   "version": "3.9.13"
  }
 },
 "nbformat": 4,
 "nbformat_minor": 5
}
